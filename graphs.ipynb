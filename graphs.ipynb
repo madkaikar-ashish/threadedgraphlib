{
 "cells": [
  {
   "cell_type": "code",
   "execution_count": 2,
   "metadata": {},
   "outputs": [],
   "source": [
    "import numpy as np\n",
    "import scipy as sp\n",
    "import matplotlib as mpl\n",
    "import matplotlib.pyplot as plt\n",
    "import pandas as pd\n",
    "import networkx as nx\n",
    "import scipy.sparse.linalg as spl"
   ]
  },
  {
   "cell_type": "code",
   "execution_count": 1,
   "metadata": {},
   "outputs": [],
   "source": [
    "import threading\n",
    "import queue\n",
    "class BFS:\n",
    "    def __init__(self, graph, start):\n",
    "        self.start = start\n",
    "        self.graph = graph\n",
    "        self.visited = {}\n",
    "        self.explore = queue.Queue()\n",
    "        #threading.Thread(target=self.search, daemon=True).start()\n",
    "        # Send thirty task requests to the worker.\n",
    "        #self.explore.put(self.start)\n",
    "        #print(\"items in explore\", self.explore.qsize())\n",
    "\n",
    "        # Block until all tasks are done.\n",
    "        self.explore.join()\n",
    "        print('All work completed')\n",
    "    def search(self):\n",
    "        while self.explore.not_empty:\n",
    "            item = self.explore.get()\n",
    "            try:\n",
    "                if not (item in self.visited):\n",
    "                    if(item == self.start):\n",
    "                        self.visited[item] = {\"parent\" :0}\n",
    "                    else:\n",
    "                        self.visited[item] = {\"parent\" :item}\n",
    "                    if(self.graph.has_node(item)):\n",
    "                        for c in self.graph[item]:\n",
    "                           self.explore.join() \n",
    "                    #print(\"items in explore after\", self.explore.qsize())\n",
    "                    print(\"VISITED:\", self.visited)\n",
    "            except:\n",
    "                print(f'Error, aborting{item}')\n",
    "            \n",
    "            print(f'Working on {item}')\n",
    "            print(f'Finished {item}')\n",
    "            self.explore.task_done()"
   ]
  },
  {
   "cell_type": "code",
   "execution_count": 6,
   "metadata": {},
   "outputs": [
    {
     "name": "stdout",
     "output_type": "stream",
     "text": [
      "All work completed\n"
     ]
    },
    {
     "data": {
      "image/png": "[encoded data removed]",
      "text/plain": [
       "<Figure size 640x480 with 1 Axes>"
      ]
     },
     "metadata": {},
     "output_type": "display_data"
    }
   ],
   "source": [
    "import networkx as nx\n",
    "import matplotlib.pyplot as plt\n",
    "\n",
    "G = nx.Graph()\n",
    "options = {\n",
    "    \"font_size\": 36,\n",
    "    \"node_size\": 2000,\n",
    "    \"node_color\": \"white\",\n",
    "    \"edgecolors\": \"black\",\n",
    "    \"linewidths\": 5,\n",
    "    \"width\": 5,\n",
    "}\n",
    "G.add_edge(0, 1)\n",
    "G.add_edge(0, 2)\n",
    "G.add_edge(0, 4)\n",
    "G.add_edge(4, 3)\n",
    "G.add_edge(4, 7)\n",
    "G.add_edge(4, 3)\n",
    "pos = nx.spring_layout(G, seed=3068)  # Seed layout for reproducibility\n",
    "nx.draw_networkx(G,pos=pos,  **options)\n",
    "# Set margins for the axes so that nodes aren't clipped\n",
    "ax = plt.gca()\n",
    "ax.margins(0.20)\n",
    "\n",
    "bfs = BFS(graph=G,start=3)\n",
    "# Turn-on the worker thread.\n"
   ]
  },
  {
   "cell_type": "code",
   "execution_count": 26,
   "metadata": {},
   "outputs": [
    {
     "name": "stdout",
     "output_type": "stream",
     "text": [
      "1\n",
      "3\n"
     ]
    }
   ],
   "source": [
    "n = 2\n",
    "if G.has_node(n):\n",
    "    for c in G[n]:\n",
    "        print(c)"
   ]
  },
  {
   "cell_type": "code",
   "execution_count": null,
   "metadata": {},
   "outputs": [],
   "source": []
  }
 ],
 "metadata": {
  "kernelspec": {
   "display_name": "iitm",
   "language": "python",
   "name": "python3"
  },
  "language_info": {
   "codemirror_mode": {
    "name": "ipython",
    "version": 3
   },
   "file_extension": ".py",
   "mimetype": "text/x-python",
   "name": "python",
   "nbconvert_exporter": "python",
   "pygments_lexer": "ipython3",
   "version": "3.10.13"
  }
 },
 "nbformat": 4,
 "nbformat_minor": 2
}
